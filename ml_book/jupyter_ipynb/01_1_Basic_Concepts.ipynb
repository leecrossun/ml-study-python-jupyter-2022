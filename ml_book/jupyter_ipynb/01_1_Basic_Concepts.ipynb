{
 "cells": [
  {
   "cell_type": "markdown",
   "id": "6e776a9c",
   "metadata": {},
   "source": [
    "# ✳ 개요\n",
    "\n",
    "## ✅ 머신러닝의 개념\n",
    "\n",
    "▶ 머신러닝이란 애플리케이션을 수정하지 않고도 데이터를 기반으로 패턴을 학습하고 결과를 예측하는 알고리즘 기법을 통칭\n",
    "\n",
    "## ✅ 머신러닝의 분류\n",
    "\n",
    "▶ 지도학습\n",
    "\n",
    "- 분류\n",
    "- 회귀\n",
    "- 추천 시스템\n",
    "- 시각 및 음성 감지(인지)\n",
    "- NLP\n",
    "\n",
    "▶ 비지도학습\n",
    "\n",
    "- 클러스터링\n",
    "- 차원 축소\n",
    "- 강화학습\n",
    "\n",
    "<aside>\n",
    "💡 머신러닝에서 중요한 것?\n",
    "머신러닝에서 중요한 것은 데이터와 알고리즘이다. 최적의 알고리즘을 구축하는 능력도 중요하지만, 양질의 데이터를 이해하고 처리하는 것이 더 중요할 수도 있다.\n",
    "\n",
    "</aside>\n",
    "\n",
    "## ✅ Python ML 생태계를 구성하는 주요 패키지\n",
    "\n",
    "▶ 머신러닝 패키지\n",
    "\n",
    "- 사이킷런, 텐서플로, 케라스 등\n",
    "\n",
    "▶ 행렬/선형대수/통계 패키지\n",
    "\n",
    "- NumPy, SciPy\n",
    "\n",
    "▶ 데이터 핸들링\n",
    "\n",
    "- Pandas - 2차원 데이터 처리에 특화, Matplotlib을 이용한 시각화\n",
    "\n",
    "▶ 시각화\n",
    "\n",
    "- Matplotlib - 세분화된 API\n",
    "- Seaborn - 조금 더 개선된 시각화 패키지"
   ]
  }
 ],
 "metadata": {
  "kernelspec": {
   "display_name": "Python 3 (ipykernel)",
   "language": "python",
   "name": "python3"
  },
  "language_info": {
   "codemirror_mode": {
    "name": "ipython",
    "version": 3
   },
   "file_extension": ".py",
   "mimetype": "text/x-python",
   "name": "python",
   "nbconvert_exporter": "python",
   "pygments_lexer": "ipython3",
   "version": "3.9.12"
  }
 },
 "nbformat": 4,
 "nbformat_minor": 5
}
