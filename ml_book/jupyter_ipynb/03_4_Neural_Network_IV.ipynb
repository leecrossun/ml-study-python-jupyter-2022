{
 "cells": [
  {
   "cell_type": "markdown",
   "id": "6711b166",
   "metadata": {},
   "source": [
    "# ✳ Neural Network\n",
    "## ✅ 손글씨 숫자 인식 - Forward Propagation\n",
    "### 기계학습과 마찬가지로 신경망도 두 단계를 거쳐 문제를 해결\n",
    "1. 훈련 데이터를 사용해 가중치 매개변수를 학습\n",
    "2. 추론 단계에서 앞서 학습한 매개변수를 사용하여 입력 데이터를 분류\n",
    "\n",
    "### ▶ MNIST 데이터셋\n",
    "- 기계학습에서 주로 사용되는 실험용 이미지 dataset\n",
    "- 훈련이미지로 모델을 학습하고 ➡ 학습한 모델로 시험이미지를 얼마나 잘 분류하는지 평가"
   ]
  },
  {
   "cell_type": "code",
   "execution_count": 8,
   "id": "814187bd",
   "metadata": {},
   "outputs": [
    {
     "name": "stdout",
     "output_type": "stream",
     "text": [
      "(60000, 784)\n",
      "(60000,)\n",
      "(10000, 784)\n",
      "(10000,)\n"
     ]
    }
   ],
   "source": [
    "import sys\n",
    "import os\n",
    "sys.path.append(os.pardir) # 부모 directory의 파일 가져오기\n",
    "from dataset.mnist import load_mnist # mnist dataset load function import\n",
    "\n",
    "# MNIST dataset load\n",
    "'''\n",
    "normalize - 입력 img의 픽셀값을 0.0~1.0사이로 정규화 할것인지, 안하면 0~255 원본값 유지\n",
    "flatten - 입력 이미지를 평탄하게 784개의 원소의 1차원 배열로 만들것인지, 안하면 1*28*28 3차원 배열로 유지\n",
    "one-hot-label - label을 원-핫 인코딩 형태로 저장할 것인지\n",
    "'''\n",
    "(x_train, t_train), (x_test, t_test) = load_mnist(flatten=True, normalize=False)\n",
    "\n",
    "# print data shape\n",
    "print(x_train.shape)\n",
    "print(t_train.shape)\n",
    "print(x_test.shape)\n",
    "print(t_test.shape)"
   ]
  },
  {
   "cell_type": "code",
   "execution_count": 12,
   "id": "30a74b02",
   "metadata": {},
   "outputs": [
    {
     "name": "stdout",
     "output_type": "stream",
     "text": [
      "img label :  5\n",
      "before img shape :  (784,)\n",
      "after img shape :  (28, 28)\n"
     ]
    }
   ],
   "source": [
    "# show image\n",
    "import numpy as np\n",
    "from PIL import Image\n",
    "\n",
    "def img_show(img):\n",
    "    pil_img = Image.fromarray(np.uint8(img)) # numpy로 저장된 img를 PIL용 data객체로 변환\n",
    "    pil_img.show()\n",
    "\n",
    "img = x_train[0]\n",
    "label = t_train[0]\n",
    "print('img label : ', label)\n",
    "\n",
    "print('before img shape : ', img.shape)\n",
    "img = img.reshape(28, 28) # 1차원 numpy array로 저장된 img를 다시 28*28 크기로 변형\n",
    "print('after img shape : ', img.shape)\n",
    "\n",
    "img_show(img)"
   ]
  },
  {
   "cell_type": "markdown",
   "id": "594eeeb5",
   "metadata": {},
   "source": [
    "### ▶ 신경망의 추론 처리\n",
    "- input-layer의 neuron : 784 | output-layer의 neuron : 10\n",
    "    - 이미지 크기가 $28*28 = 784$\n",
    "    - 0~9까지의 숫자를 구분하므로 10개의 구분\n",
    "- hidden-layer의 neuron : 50, 100\n",
    "    - 임의의 값"
   ]
  },
  {
   "cell_type": "code",
   "execution_count": 59,
   "id": "feb0e2bc",
   "metadata": {},
   "outputs": [],
   "source": [
    "import pickle\n",
    "def get_data():\n",
    "    (x_train, t_train), (x_test, t_test) = load_mnist(flatten=True, normalize=False)\n",
    "    return x_test, t_test\n",
    "\n",
    "# pickle file(sample_weight.pkl)에 저장된 '학습된 가중치 매개변수' load\n",
    "def init_network():\n",
    "    with open(\"sample_weight.pkl\", 'rb')as f:\n",
    "        network = pickle.load(f)\n",
    "        \n",
    "    return network\n",
    "\n",
    "def sigmoid(x):\n",
    "    return 1 / (1 + np.exp(-x))\n",
    "#     temp_x = x.tolist()\n",
    "#     for i in range(len(temp_x)):\n",
    "#         x1 = temp_x[i]\n",
    "        \n",
    "#         # 원소 값이 작을 경우 -x하는 과정에서 overflow가 발생할 수 있으므로\n",
    "#         # if문을 통해 조건을 걸어서 리턴\n",
    "#         if x1 < 0:\n",
    "#             temp_x[i] = np.exp(x1) / (1 + np.exp(x1))\n",
    "#         else:\n",
    "#             temp_x[i] = 1 / (1 + np.exp(-x1))\n",
    "    \n",
    "#     return np.array(temp_x)\n",
    "\n",
    "def softmax(a):\n",
    "    exp_a = np.exp(a)\n",
    "    sum_exp_a = np.sum(exp_a)\n",
    "    \n",
    "    c = np.max(a) # overflow방지\n",
    "    a -= c\n",
    "    \n",
    "    y =  np.exp(a) / np.sum(np.exp(a))\n",
    "    \n",
    "    return y\n",
    "    \n",
    "# 각 label의 확률을 numpy array로 return\n",
    "def predict(network, x):\n",
    "    W1, W2, W3 = network['W1'], network['W2'], network['W3']\n",
    "    b1, b2, b3 = network['b1'], network['b2'], network['b3']\n",
    "    \n",
    "    a1 = np.dot(x, W1) + b1\n",
    "    d1 = sigmoid(a1)\n",
    "    \n",
    "    a2 = np.dot(d1, W2) + b2\n",
    "    d2 = sigmoid(a2)\n",
    "    a3 = np.dot(d2, W3) + b3\n",
    "    y = softmax(a3)\n",
    "    \n",
    "    return y"
   ]
  },
  {
   "cell_type": "code",
   "execution_count": 55,
   "id": "0250e234",
   "metadata": {},
   "outputs": [
    {
     "name": "stdout",
     "output_type": "stream",
     "text": [
      "Accuracy:  0.9207\n"
     ]
    }
   ],
   "source": [
    "# main\n",
    "x, t = get_data() # get dataset\n",
    "network = init_network() # create network\n",
    "accuracy_cnt = 0 # 분류가 얼마나 올바른지 판단\n",
    "for i in range(len(x)):\n",
    "    y = predict(network, x[i])\n",
    "    p = np.argmax(y) # 확률이 가장 높은 원소의 index 얻기\n",
    "    \n",
    "    if p == t[i]:\n",
    "        accuracy_cnt += 1\n",
    "\n",
    "print(\"Accuracy: \", str(float(accuracy_cnt) / len(x)))"
   ]
  },
  {
   "cell_type": "markdown",
   "id": "0d366ce5",
   "metadata": {},
   "source": [
    "- 정규화 normalization : 데이터를 특정 범위로 변환하는 처리\n",
    "    - load_mnist(normalize=True)\n",
    "- 전처리 pre-processing : 신경망의 input data에 대한 특정 변환을 가하는 것\n",
    "    - 즉, input image data에 대한 pre-processing으로 normalization을 수행한 것으로 해석\n",
    "\n",
    "### 💡 NOTE\n",
    "- 전처리를 통해 식별 능력을 개선\n",
    "- 위 샘플코드에서는 각 픽셀의 값을 255로 나누는 단순한 정규화를 수행\n",
    "- 현업에서는 데이터 전체의 분포를 고려하여 전처리 수행\n",
    "    - ex. 데이터 전체 평균과 표준편차를 이용하여 데이터를 0을 중심으로 분포하도록 이동\n",
    "    - ex. 데이터의 확산 범위를 제한하기 위해 normalize\n",
    "    - ex. 전체 데이터를 균일하게 분포시키는 데이터 백색화 whitening"
   ]
  },
  {
   "attachments": {
    "image-2.png": {
     "image/png": "[encoded data removed]"
    },
    "image.png": {
     "image/png": "[encoded data removed]"
    }
   },
   "cell_type": "markdown",
   "id": "f013389b",
   "metadata": {},
   "source": [
    "## ✅ Batch\n",
    "### 💡 NOTE\n",
    "- batch 처리는 이미지 1장당 처리시간을 대폭 줄여준다\n",
    "    1. 수치 계산 lib 대부분이 큰 배열을 효율적으로 처리하도록 설계\n",
    "    2. 커다란 신경망에서는 데이터 전송에서 병목이 발생 할 수 있음\n",
    "    -> 그래서 배치 처리를 통해 bus에 주는 부하를 감소시킬 수 있음\n",
    "    -> I/O를 통해 데이터를 읽는 시간을 줄이고, 순수 CPU, GPU 사용률을 높이기\n",
    "    \n",
    "####    \n",
    "\n",
    "![image.png](attachment:image.png)\n",
    "\n",
    "####    \n",
    "\n",
    "![image-2.png](attachment:image-2.png)\n",
    "\n",
    "####    \n",
    "\n",
    "- 위와 같이 이미지 100장의 분량의 input에 대한 출력이 한번에 수행될 수 있음"
   ]
  },
  {
   "cell_type": "code",
   "execution_count": 60,
   "id": "50962b93",
   "metadata": {},
   "outputs": [
    {
     "name": "stdout",
     "output_type": "stream",
     "text": [
      "Accuracy:  0.9207\n"
     ]
    },
    {
     "name": "stderr",
     "output_type": "stream",
     "text": [
      "C:\\Users\\hyosun\\AppData\\Local\\Temp\\ipykernel_11128\\2019075988.py:14: RuntimeWarning: overflow encountered in exp\n",
      "  return 1 / (1 + np.exp(-x))\n"
     ]
    }
   ],
   "source": [
    "x, t = get_data()\n",
    "network = init_network()\n",
    "\n",
    "batch_size = 100\n",
    "accuracy_cnt = 0\n",
    "\n",
    "for i in range(0, len(x), batch_size):\n",
    "    x_batch = x[i:i + batch_size] # batch의 크기만큼 한번에 묶기\n",
    "    y_batch = predict(network, x_batch) # batch 묶음을 한번에 처리\n",
    "    \n",
    "    p = np.argmax(y_batch, axis = 1)\n",
    "    accuracy_cnt += np.sum(p == t[i:i + batch_size])\n",
    "\n",
    "print(\"Accuracy: \", str(float(accuracy_cnt) / len(x)))"
   ]
  },
  {
   "cell_type": "markdown",
   "id": "2b43a0d3",
   "metadata": {},
   "source": [
    "### ▶ 정리\n",
    "- 신경망은 각 층의 뉴런들이 다음 층의 뉴런으로 신호를 전달 -> 퍼셉트론과 유사\n",
    "- 다만, 신경망에서는 매끄럽게 변화하는 sigmoid function/ReLU function을,\n",
    "- 퍼셉트론에서는 급격히 변화하는 step function을 사용했다는 차이\n",
    "\n",
    "- numpy의 다차원 배열을 활용하면 효율적 처리 OK\n",
    "- output-layer에서 activation function으로\n",
    "    - 회귀에서는 항등함수\n",
    "    - 분류에서는 softmax\n",
    "- output-layer의 neuron의 수 == 분류하려는 class의 수\n",
    "- 추론 처리를 batch 단위로 진행하면 훨씬 효율적"
   ]
  }
 ],
 "metadata": {
  "kernelspec": {
   "display_name": "Python 3 (ipykernel)",
   "language": "python",
   "name": "python3"
  },
  "language_info": {
   "codemirror_mode": {
    "name": "ipython",
    "version": 3
   },
   "file_extension": ".py",
   "mimetype": "text/x-python",
   "name": "python",
   "nbconvert_exporter": "python",
   "pygments_lexer": "ipython3",
   "version": "3.9.12"
  }
 },
 "nbformat": 4,
 "nbformat_minor": 5
}
