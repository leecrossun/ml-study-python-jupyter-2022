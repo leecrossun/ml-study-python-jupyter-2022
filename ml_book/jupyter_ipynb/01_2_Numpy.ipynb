{
 "cells": [
  {
   "cell_type": "markdown",
   "id": "6a015331",
   "metadata": {},
   "source": [
    "# ✳ Numpy\n",
    "## ✅ numpy 개요\n",
    "### ▶ type, shape, dtype"
   ]
  },
  {
   "cell_type": "code",
   "execution_count": 2,
   "id": "42b5ac18",
   "metadata": {},
   "outputs": [],
   "source": [
    "import numpy as np"
   ]
  },
  {
   "cell_type": "code",
   "execution_count": 11,
   "id": "ad10dae8",
   "metadata": {},
   "outputs": [
    {
     "name": "stdout",
     "output_type": "stream",
     "text": [
      "array1 type : <class 'numpy.ndarray'>\n",
      "array1 shape : (3,)\n",
      "array1 1차원\n",
      "array1 dtype: int32\n",
      "\n",
      "array2 type : <class 'numpy.ndarray'>\n",
      "array2 shape : (2, 3)\n",
      "array2 2차원\n",
      "\n",
      "array3 type : <class 'numpy.ndarray'>\n",
      "array3 shape : (1, 3)\n",
      "array3 2차원\n"
     ]
    }
   ],
   "source": [
    "array1 = np.array([1, 2, 3])\n",
    "print('array1 type : {0}'.format(type(array1)))\n",
    "print('array1 shape : {0}'.format(array1.shape))\n",
    "print('array1 {0}차원'.format(array1.ndim))\n",
    "print('array1 dtype: {0}'.format(array1.dtype))\n",
    "\n",
    "print(\"\")\n",
    "\n",
    "array2 = np.array([[1, 2, 3],\n",
    "                 [4, 5, 6]])\n",
    "print('array2 type : {0}'.format(type(array2)))\n",
    "print('array2 shape : {0}'.format(array2.shape))\n",
    "print('array2 {0}차원'.format(array2.ndim))\n",
    "\n",
    "print(\"\")\n",
    "\n",
    "array3 = np.array([[1, 2, 3]])\n",
    "print('array3 type : {0}'.format(type(array3)))\n",
    "print('array3 shape : {0}'.format(array3.shape))\n",
    "print('array3 {0}차원'.format(array3.ndim))"
   ]
  },
  {
   "cell_type": "code",
   "execution_count": 12,
   "id": "d310d75b",
   "metadata": {},
   "outputs": [
    {
     "name": "stdout",
     "output_type": "stream",
     "text": [
      "mixed_array dtype : <U11\n"
     ]
    }
   ],
   "source": [
    "mixed_list = [1, 2, 'string_data']\n",
    "mixed_array = np.array(mixed_list)\n",
    "print('mixed_array dtype :', mixed_array.dtype) # type이 섞여있을 경우 더 큰 data type으로 casting"
   ]
  },
  {
   "cell_type": "code",
   "execution_count": 15,
   "id": "e842c766",
   "metadata": {},
   "outputs": [
    {
     "name": "stdout",
     "output_type": "stream",
     "text": [
      "int32\n",
      "float64\n"
     ]
    }
   ],
   "source": [
    "array_int = np.array([1, 2, 3])\n",
    "array_float = array_int.astype('float64')\n",
    "print(array_int.dtype)\n",
    "print(array_float.dtype)"
   ]
  },
  {
   "cell_type": "markdown",
   "id": "b3bd9b77",
   "metadata": {},
   "source": [
    "### ▶ arange, zeros, ones"
   ]
  },
  {
   "cell_type": "code",
   "execution_count": 18,
   "id": "37e89965",
   "metadata": {},
   "outputs": [
    {
     "name": "stdout",
     "output_type": "stream",
     "text": [
      "sequence array\n",
      "[0 1 2 3 4 5 6 7 8 9]\n",
      "zero array\n",
      "[[0 0]\n",
      " [0 0]\n",
      " [0 0]]\n",
      "one array\n",
      "[[1. 1.]\n",
      " [1. 1.]\n",
      " [1. 1.]]\n"
     ]
    }
   ],
   "source": [
    "print('sequence array')\n",
    "sequence_array = np.arange(10)\n",
    "print(sequence_array)\n",
    "\n",
    "print('zero array')\n",
    "zero_array = np.zeros((3, 2), dtype='int32')\n",
    "print(zero_array)\n",
    "\n",
    "print(\"one array\")\n",
    "one_array = np.ones((3, 2)) # default type : float64\n",
    "print(one_array)"
   ]
  },
  {
   "cell_type": "markdown",
   "id": "e55f31f2",
   "metadata": {},
   "source": [
    "### ▶ reshape"
   ]
  },
  {
   "cell_type": "markdown",
   "id": "c3fe05d9",
   "metadata": {},
   "source": [
    "#### ndarray의 차원과 크기를 변화"
   ]
  },
  {
   "cell_type": "code",
   "execution_count": 20,
   "id": "e6973b15",
   "metadata": {},
   "outputs": [
    {
     "name": "stdout",
     "output_type": "stream",
     "text": [
      "array1 : [0 1 2 3 4 5 6 7 8 9] \n",
      " array2 : [[0 1 2 3 4]\n",
      " [5 6 7 8 9]] \n",
      " array3 : [[0 1]\n",
      " [2 3]\n",
      " [4 5]\n",
      " [6 7]\n",
      " [8 9]]\n"
     ]
    }
   ],
   "source": [
    "array1 = np.arange(10)\n",
    "array2 = array1.reshape(2, 5)\n",
    "array3 = array2.reshape(5, 2)\n",
    "\n",
    "print('array1 : {0} \\n array2 : {1} \\n array3 : {2}'.format(array1, array2, array3))"
   ]
  },
  {
   "cell_type": "markdown",
   "id": "466e38a6",
   "metadata": {},
   "source": [
    "#### -1를 인자로 사용하면 기존의 ndarray와 호환되는 shape으로 변환"
   ]
  },
  {
   "cell_type": "code",
   "execution_count": 21,
   "id": "a8ff37be",
   "metadata": {},
   "outputs": [
    {
     "name": "stdout",
     "output_type": "stream",
     "text": [
      "array1 : [0 1 2 3 4 5 6 7 8 9] \n",
      " array2 : [[0 1 2 3 4]\n",
      " [5 6 7 8 9]] \n",
      " array3 : [[0 1]\n",
      " [2 3]\n",
      " [4 5]\n",
      " [6 7]\n",
      " [8 9]]\n"
     ]
    }
   ],
   "source": [
    "array1 = np.arange(10)\n",
    "array2 = array1.reshape(-1, 5)\n",
    "array3 = array2.reshape(-1, 2)\n",
    "print('array1 : {0} \\n array2 : {1} \\n array3 : {2}'.format(array1, array2, array3))"
   ]
  },
  {
   "cell_type": "markdown",
   "id": "8eb9235c",
   "metadata": {},
   "source": [
    "#### 호환이 불가능한 reshape 은 Value Error 발생"
   ]
  },
  {
   "cell_type": "code",
   "execution_count": 22,
   "id": "f587af66",
   "metadata": {},
   "outputs": [
    {
     "ename": "ValueError",
     "evalue": "cannot reshape array of size 10 into shape (4)",
     "output_type": "error",
     "traceback": [
      "\u001b[1;31m---------------------------------------------------------------------------\u001b[0m",
      "\u001b[1;31mValueError\u001b[0m                                Traceback (most recent call last)",
      "Input \u001b[1;32mIn [22]\u001b[0m, in \u001b[0;36m<cell line: 2>\u001b[1;34m()\u001b[0m\n\u001b[0;32m      1\u001b[0m array1 \u001b[38;5;241m=\u001b[39m np\u001b[38;5;241m.\u001b[39marange(\u001b[38;5;241m10\u001b[39m)\n\u001b[1;32m----> 2\u001b[0m array2 \u001b[38;5;241m=\u001b[39m \u001b[43marray1\u001b[49m\u001b[38;5;241;43m.\u001b[39;49m\u001b[43mreshape\u001b[49m\u001b[43m(\u001b[49m\u001b[38;5;241;43m-\u001b[39;49m\u001b[38;5;241;43m1\u001b[39;49m\u001b[43m,\u001b[49m\u001b[43m \u001b[49m\u001b[38;5;241;43m4\u001b[39;49m\u001b[43m)\u001b[49m\n",
      "\u001b[1;31mValueError\u001b[0m: cannot reshape array of size 10 into shape (4)"
     ]
    }
   ],
   "source": [
    "array1 = np.arange(10)\n",
    "array2 = array1.reshape(-1, 4) # 인자로 -1를 사용하더라도 10개의 data를 고정된 4개의 column을 가진 row로는 변경불가"
   ]
  },
  {
   "cell_type": "markdown",
   "id": "50030756",
   "metadata": {},
   "source": [
    "### ▶ Indexing, Slicing\n",
    "1. 특정 데이터만 추출\n",
    "2. Slicing: 연속된 인덱스상의 ndarray 추출\n",
    "3. Fancy Indexing: 일정한 인덱싱 집합을 list 또는 ndarray형태로 저장해 해당 위치에 있는 데이터의 ndarray 반환\n",
    "4. Boolean Indexing: 특정 조건에 해당하는지 여부를 기반으로 True인 인덱스의 data의 ndarray반환"
   ]
  },
  {
   "cell_type": "markdown",
   "id": "ca0fa2a1",
   "metadata": {},
   "source": [
    "#### 2차원 slicing"
   ]
  },
  {
   "cell_type": "code",
   "execution_count": 28,
   "id": "77efc857",
   "metadata": {},
   "outputs": [
    {
     "name": "stdout",
     "output_type": "stream",
     "text": [
      "--- array1 ---\n",
      "[[1 2 3]\n",
      " [4 5 6]\n",
      " [7 8 9]]\n",
      "--- array2 ---\n",
      "[[4 5]\n",
      " [7 8]]\n"
     ]
    }
   ],
   "source": [
    "array1 = np.arange(1, 10).reshape(3, 3)\n",
    "print('--- array1 ---')\n",
    "print(array1)\n",
    "\n",
    "array2 = array1[1:, :2]\n",
    "print('--- array2 ---')\n",
    "print(array2)"
   ]
  },
  {
   "cell_type": "markdown",
   "id": "71769ad4",
   "metadata": {},
   "source": [
    "#### fancy indexing"
   ]
  },
  {
   "cell_type": "code",
   "execution_count": 29,
   "id": "0339a5cb",
   "metadata": {},
   "outputs": [
    {
     "name": "stdout",
     "output_type": "stream",
     "text": [
      "--- array3 ---\n",
      "[3 6]\n"
     ]
    }
   ],
   "source": [
    "array3 = array1[[0, 1], 2]\n",
    "print('--- array3 ---')\n",
    "print(array3)"
   ]
  },
  {
   "cell_type": "markdown",
   "id": "c9f9ee44",
   "metadata": {},
   "source": [
    "#### boolean indexing\n",
    "1. 필터링 조건 확인\n",
    "2. True에 해당하는 index 값 저장 (True값이 아닌 index를 저장)\n",
    "3. 지정된 index data set으로 ndarray return"
   ]
  },
  {
   "cell_type": "code",
   "execution_count": 31,
   "id": "98c4685d",
   "metadata": {},
   "outputs": [
    {
     "name": "stdout",
     "output_type": "stream",
     "text": [
      "--- array4 ---\n",
      "[6 7 8 9]\n"
     ]
    }
   ],
   "source": [
    "# 5보다 큰 값만 indexing 하기\n",
    "array4 = array1[array1 > 5]\n",
    "print('--- array4 ---')\n",
    "print(array4)"
   ]
  },
  {
   "cell_type": "markdown",
   "id": "6e5363de",
   "metadata": {},
   "source": [
    "### ▶ 행렬의 정렬 : sort(), argsort()\n",
    "\n",
    "- np.sort() : numpy에서 호출 -> 원본 유지한 채 정렬된 새 행렬 return\n",
    "- ndarray.sort() : 행렬 자체에서 호출 -> 원본 행렬 자체를 정렬한 채 return"
   ]
  },
  {
   "cell_type": "code",
   "execution_count": 32,
   "id": "0f46b549",
   "metadata": {},
   "outputs": [
    {
     "name": "stdout",
     "output_type": "stream",
     "text": [
      "원본 행렬: [3 1 9 5]\n",
      "np.sort( ) 호출 후 반환된 정렬 행렬: [1 3 5 9]\n",
      "np.sort( ) 호출 후 원본 행렬: [3 1 9 5]\n",
      "org_array.sort( ) 호출 후 반환된 행렬: None\n",
      "org_array.sort( ) 호출 후 원본 행렬: [1 3 5 9]\n"
     ]
    }
   ],
   "source": [
    "org_array = np.array([ 3, 1, 9, 5]) \n",
    "print('원본 행렬:', org_array)\n",
    "\n",
    "# np.sort( )로 정렬 \n",
    "sort_array1 = np.sort(org_array)         \n",
    "print ('np.sort( ) 호출 후 반환된 정렬 행렬:', sort_array1) \n",
    "print('np.sort( ) 호출 후 원본 행렬:', org_array)\n",
    "\n",
    "# ndarray.sort( )로 정렬\n",
    "sort_array2 = org_array.sort()\n",
    "print('org_array.sort( ) 호출 후 반환된 행렬:', sort_array2)\n",
    "print('org_array.sort( ) 호출 후 원본 행렬:', org_array)"
   ]
  },
  {
   "cell_type": "markdown",
   "id": "3ccf42a9",
   "metadata": {},
   "source": [
    "#### 2차원 행렬 정렬"
   ]
  },
  {
   "cell_type": "code",
   "execution_count": 37,
   "id": "b4705e3a",
   "metadata": {},
   "outputs": [
    {
     "name": "stdout",
     "output_type": "stream",
     "text": [
      "--- axis0 정렬 ---\n",
      "[[2 2]\n",
      " [3 7]]\n",
      "--- axis1 정렬 ---\n",
      "[[2 3]\n",
      " [2 7]]\n"
     ]
    }
   ],
   "source": [
    "array2d = np.array([[3, 2],\n",
    "                  [2, 7]])\n",
    "\n",
    "sorted_array2d_axis0 = np.sort(array2d, axis=0)\n",
    "print('--- axis0 정렬 ---')\n",
    "print(sorted_array2d_axis0)\n",
    "\n",
    "sorted_array2d_axis1 = np.sort(array2d, axis=1)\n",
    "print('--- axis1 정렬 ---')\n",
    "print(sorted_array2d_axis1)"
   ]
  },
  {
   "cell_type": "markdown",
   "id": "1fb388f9",
   "metadata": {},
   "source": [
    "#### 정렬된 행렬의 index 반환"
   ]
  },
  {
   "cell_type": "code",
   "execution_count": 39,
   "id": "df6bdfab",
   "metadata": {},
   "outputs": [
    {
     "name": "stdout",
     "output_type": "stream",
     "text": [
      "--- asc ---\n",
      "[1 0 3 2]\n",
      "--- desc ---\n",
      "[2 3 0 1]\n"
     ]
    }
   ],
   "source": [
    "org_array = np.array([3, 1, 9, 5])\n",
    "sort_index = np.argsort(org_array)\n",
    "\n",
    "print('--- asc ---')\n",
    "print(sort_index)\n",
    "\n",
    "print('--- desc ---')\n",
    "sort_index_desc = np.argsort(org_array)[::-1]\n",
    "print(sort_index_desc)"
   ]
  },
  {
   "cell_type": "code",
   "execution_count": 40,
   "id": "b7a91e9f",
   "metadata": {},
   "outputs": [
    {
     "name": "stdout",
     "output_type": "stream",
     "text": [
      "성적 오름차순 정렬 시 score_array의 인덱스: [0 2 4 1 3]\n",
      "성적 오름차순으로 name_array의 이름 출력: ['John' 'Sarah' 'Samuel' 'Mike' 'Kate']\n"
     ]
    }
   ],
   "source": [
    "name_array = np.array(['John', 'Mike', 'Sarah', 'Kate', 'Samuel'])\n",
    "score_array= np.array([78, 95, 84, 98, 88])\n",
    "\n",
    "sort_indices_asc = np.argsort(score_array)\n",
    "print('성적 오름차순 정렬 시 score_array의 인덱스:', sort_indices_asc)\n",
    "print('성적 오름차순으로 name_array의 이름 출력:', name_array[sort_indices_asc])"
   ]
  },
  {
   "cell_type": "markdown",
   "id": "715e1299",
   "metadata": {},
   "source": [
    "### ▶ 선형대수 연산 - 행렬 내적과 전치 행렬 구하기\n",
    "\n",
    "#### 행렬 내적 (matrix multiplication)"
   ]
  },
  {
   "cell_type": "code",
   "execution_count": 44,
   "id": "42c646fb",
   "metadata": {},
   "outputs": [
    {
     "name": "stdout",
     "output_type": "stream",
     "text": [
      "[[ 58  64]\n",
      " [139 154]]\n"
     ]
    }
   ],
   "source": [
    "A = np.array([[1, 2, 3],\n",
    "             [4, 5, 6]])\n",
    "B = np.array([[7, 8],\n",
    "             [9, 10],\n",
    "             [11, 12]])\n",
    "\n",
    "dot_product = np.dot(A, B)\n",
    "print(dot_product)"
   ]
  },
  {
   "cell_type": "markdown",
   "id": "a63e52a2",
   "metadata": {},
   "source": [
    "#### 전치 행렬\n",
    "#### : 행렬의 행과 열 위치를 교환한 원소로 구성한 행렬"
   ]
  },
  {
   "cell_type": "code",
   "execution_count": 45,
   "id": "71d6de3f",
   "metadata": {},
   "outputs": [
    {
     "name": "stdout",
     "output_type": "stream",
     "text": [
      "[[1 3]\n",
      " [2 4]]\n"
     ]
    }
   ],
   "source": [
    "A = np.array([[1, 2],\n",
    "             [3, 4]])\n",
    "transpose_mat = np.transpose(A)\n",
    "print(transpose_mat)"
   ]
  }
 ],
 "metadata": {
  "kernelspec": {
   "display_name": "Python 3 (ipykernel)",
   "language": "python",
   "name": "python3"
  },
  "language_info": {
   "codemirror_mode": {
    "name": "ipython",
    "version": 3
   },
   "file_extension": ".py",
   "mimetype": "text/x-python",
   "name": "python",
   "nbconvert_exporter": "python",
   "pygments_lexer": "ipython3",
   "version": "3.9.12"
  }
 },
 "nbformat": 4,
 "nbformat_minor": 5
}
