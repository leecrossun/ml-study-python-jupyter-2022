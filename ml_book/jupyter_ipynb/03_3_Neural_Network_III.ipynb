{
 "cells": [
  {
   "attachments": {
    "image.png": {
     "image/png": "[encoded data removed]"
    }
   },
   "cell_type": "markdown",
   "id": "efb5fb7f",
   "metadata": {},
   "source": [
    "# ✳ Neural Network\n",
    "## ✅ Output-layer 설계하기\n",
    "### ▶ identity function & softmax function 구현\n",
    "- Identity function : 입력을 그대로 출력\n",
    "- softmax function\n",
    "    - $y_k = \\frac{exp(a_k)}{\\displaystyle\\sum_{i=1}^{n}{exp(a_i)}}$\n",
    "        - $exp(x)$ : $e^x$ 를 뜻하는 지수함수\n",
    "        - n : 출력층의 뉴런 수\n",
    "        - $y_k$ : k번째 출력\n",
    "\n",
    "![image.png](attachment:image.png)"
   ]
  },
  {
   "cell_type": "code",
   "execution_count": 9,
   "id": "c9812a08",
   "metadata": {},
   "outputs": [
    {
     "name": "stdout",
     "output_type": "stream",
     "text": [
      "exp_a :  [ 1.34985881 18.17414537 54.59815003]\n",
      "sum_exp_a :  74.1221542101633\n",
      "y :  [0.01821127 0.24519181 0.73659691]\n"
     ]
    }
   ],
   "source": [
    "# softmax function\n",
    "import numpy as np\n",
    "a = np.array([0.3, 2.9, 4.0])\n",
    "\n",
    "exp_a = np.exp(a) # 지수 함수\n",
    "print('exp_a : ', exp_a)\n",
    "\n",
    "sum_exp_a = np.sum(exp_a)\n",
    "print('sum_exp_a : ', sum_exp_a)\n",
    "\n",
    "y = exp_a / sum_exp_a\n",
    "print('y : ', y)\n",
    "\n",
    "def softmax(a):\n",
    "    exp_a = np.exp(a) # 지수 함수\n",
    "    sum_exp_a = np.sum(exp_a) # 지수 함수의 합\n",
    "    y = exp_a / sum_exp_a # 결과\n",
    "    \n",
    "    return y"
   ]
  },
  {
   "cell_type": "markdown",
   "id": "8f5e82d1",
   "metadata": {},
   "source": [
    "### ▶ overflow 문제\n",
    "- 지수 함수는 아주 큰 값을 내기 때문에 overflow가 발생할 수 있다\n",
    "- $C$라는 임의의 정수를 분자와 분모에 곱한 후 지수함수 안으로 옮겨 $logC$로 만들자.\n",
    "    - $y_k = \\frac{exp(a_k + C')}{\\displaystyle\\sum_{i=1}^{n}{exp(a_i + C')}}$\n",
    "    - 여기서 $C'$ 는 $logC$를 의미"
   ]
  },
  {
   "cell_type": "code",
   "execution_count": 7,
   "id": "d4067a08",
   "metadata": {},
   "outputs": [
    {
     "name": "stdout",
     "output_type": "stream",
     "text": [
      "개선 전 :  [nan nan nan]\n",
      "개선 후 :  [9.99954600e-01 4.53978686e-05 2.06106005e-09]\n"
     ]
    },
    {
     "name": "stderr",
     "output_type": "stream",
     "text": [
      "C:\\Users\\hyosun\\AppData\\Local\\Temp\\ipykernel_10612\\3128829623.py:3: RuntimeWarning: overflow encountered in exp\n",
      "  print('개선 전 : ', np.exp(a) / np.sum(np.exp(a))) # overflow error\n",
      "C:\\Users\\hyosun\\AppData\\Local\\Temp\\ipykernel_10612\\3128829623.py:3: RuntimeWarning: invalid value encountered in true_divide\n",
      "  print('개선 전 : ', np.exp(a) / np.sum(np.exp(a))) # overflow error\n"
     ]
    }
   ],
   "source": [
    "# 개선 전의 softmax function\n",
    "a = np.array([1010, 1000, 990])\n",
    "print('개선 전 : ', np.exp(a) / np.sum(np.exp(a))) # overflow error\n",
    "\n",
    "# 개선된 softmax function\n",
    "c = np.max(a) # 입력 신호 중 최댓값을 C로 선정\n",
    "a -= c\n",
    "print('개선 후 : ', np.exp(a) / np.sum(np.exp(a)))"
   ]
  },
  {
   "cell_type": "markdown",
   "id": "5babd3fd",
   "metadata": {},
   "source": [
    "### ▶ softmax function의 특징\n",
    "- softmax function의 출력은 0~1 사이의 실수\n",
    "- 모든 출력값의 합은 1"
   ]
  },
  {
   "cell_type": "code",
   "execution_count": 10,
   "id": "4af91b52",
   "metadata": {},
   "outputs": [
    {
     "name": "stdout",
     "output_type": "stream",
     "text": [
      "[0.01821127 0.24519181 0.73659691]\n",
      "1.0\n"
     ]
    }
   ],
   "source": [
    "a = np.array([0.3, 2.9, 4.0])\n",
    "y = softmax(a)\n",
    "print(y)\n",
    "print(np.sum(y))"
   ]
  },
  {
   "cell_type": "markdown",
   "id": "2b90d5b0",
   "metadata": {},
   "source": [
    "#### 모든 출력의 합이 1이라는 성질 때문에 softmax의 출력을 **'확률로 해석'** 할 수 있음\n",
    "#### 위 출력의 예에서 y[0] = 0.018(1.8%), y[1] = 0.245(24.5%), y[2] = 0.737(73.7%)로 해석해볼 수 있다.\n",
    "#### 그리고, softmax 를 사용해도 **각 원소의 대소관계는 변하지 않음**\n",
    "#### 일반적으로 신경망의 분류에서는 가장 큰 출력을 내는 뉴런에 해당하는 클래스로만 인식하므로\n",
    "#### sofmax 를 적용해도 출력이 가장 큰 뉴런의 위치는 변하지 X\n",
    "#### ➡ 신경망으로 분류할 때는 softmax function을 생략해도 OK"
   ]
  },
  {
   "attachments": {
    "image.png": {
     "image/png": "[encoded data removed]"
    }
   },
   "cell_type": "markdown",
   "id": "edde4b2e",
   "metadata": {},
   "source": [
    "### ▶ 출력층의 뉴런 수 정하기\n",
    "- 분류에서는 **분류하고자 하는 class 수**로 설정\n",
    "    - 입력 이미지를 0~9 중 하나로 분류하고자 한다면, 출력층의 뉴런을 10개로 설정\n",
    "![image.png](attachment:image.png)\n",
    "\n",
    "- 위 그림에서 출력층 뉴런은 차례로 숫자 0~9에 대응\n",
    "- 뉴런의 회색 농도가 해당 뉴런의 출력값을 의미\n",
    "    - 색이 가장 짙은 $y_2$뉴런이 가장 큰 값을 출력\n",
    "    - 따라서 **이 신경망이 선택한 class는 $y_2$**, .즉 **입력 이미지를 숫자 '2'로 판단했음**을 의미"
   ]
  }
 ],
 "metadata": {
  "kernelspec": {
   "display_name": "Python 3 (ipykernel)",
   "language": "python",
   "name": "python3"
  },
  "language_info": {
   "codemirror_mode": {
    "name": "ipython",
    "version": 3
   },
   "file_extension": ".py",
   "mimetype": "text/x-python",
   "name": "python",
   "nbconvert_exporter": "python",
   "pygments_lexer": "ipython3",
   "version": "3.9.12"
  }
 },
 "nbformat": 4,
 "nbformat_minor": 5
}
