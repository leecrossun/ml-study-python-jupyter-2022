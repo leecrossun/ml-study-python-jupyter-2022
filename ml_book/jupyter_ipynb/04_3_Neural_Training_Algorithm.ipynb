{
 "cells": [
  {
   "cell_type": "markdown",
   "id": "5ce9dcb9",
   "metadata": {},
   "source": [
    "# ✳ Neural Training Algorithm\n",
    "## ✅ 학습 알고리즘 구현하기 \n",
    "### ▶ 신경망 학습의 절차\n",
    "**전제**\n",
    "#### 신경망에는 적응 가능한 가중치(weight)와 편향(bias)이 있고, 이 가중치와 편향을 휸련 데이터에 적응하도록 조정하는 과정을 '학습' 이라고 한다.\n",
    "\n",
    "**1️⃣ 1단계 - 미니배치**\n",
    "#### 훈련 데이터 중 일부를 무작위로 가져온다.\n",
    "#### 무작위로 선별한 데이터 ➡ 미니배치\n",
    "#### 우리는 이 미니배치의 손실함수값을 줄이는 것을 목표로 한다.\n",
    "\n",
    "**2️⃣ 2단계 - 기울기 산출**\n",
    "#### 미니배치의 손실 함수 값을 줄이기 위해 각 가중치 매개변수의 기울기를 구한다.\n",
    "#### 기울기는 손실 함수의 값을 가장 작게 하는 방향으로 제시\n",
    "\n",
    "**3️⃣ 3단계 - 매개변수 갱신**\n",
    "#### 가중치 매개변수를 기울기 방향으로 아주 조금 갱신\n",
    "\n",
    "**4️⃣ 4단계 - 반복**\n",
    "#### 1~3단계를 반복\n",
    "\n",
    "- 경사 하강법으로 매개변수를 갱신 + 데이터를 미니배치로 무작위 선정\n",
    "➡ **확률적 경사 하강법 (stochastic gradient descent, SGD)**\n",
    "\n",
    "### ▶ 2층 신경망 클래스 구현하기\n",
    "- 2층 신경망을 하나의 class로 구현 (TwoLayerNet class)"
   ]
  },
  {
   "cell_type": "code",
   "execution_count": 3,
   "id": "896f7d01",
   "metadata": {},
   "outputs": [],
   "source": [
    "import sys, os\n",
    "sys.path.append(os.pardir)\n",
    "from common.functions import *\n",
    "from common.gradient import numerical_gradient\n",
    "\n",
    "class TwoLayerNet:\n",
    "    # 가중치 초기화\n",
    "    def __init__(self, input_size, hidden_size, output_size, weight_init_std = 0.01):\n",
    "        self.params = {} # 신경망의 매개변수\n",
    "        self.params['W1'] = weight_init_std * np.random.randn(input_size, hidden_size)\n",
    "        \n",
    "        self.params['b1'] = np.zeros(hidden_size)\n",
    "        self.params['W2'] = weight_init_std * np.random.randn(hidden_size, output_size)\n",
    "        \n",
    "        self.params['b2'] = np.zeros(output_size)\n",
    "    \n",
    "    # 에측 실행\n",
    "    def predict(self, x):\n",
    "        W1, W2 = self.params['W1'], self.params['W2']\n",
    "        b1, b2 = self.params['b2'], self.params['b2']\n",
    "        \n",
    "        a1 = np.dot(x, W1) + b1\n",
    "        z1 = sigmoid(a1)\n",
    "        \n",
    "        a2 = np.dot(z1, W2) + b2\n",
    "        \n",
    "        y = softmax(a2)\n",
    "        return y\n",
    "    \n",
    "    # 손실 함수\n",
    "    def loss(self, x, t): # x : input data / t : true label\n",
    "        y = self.predict(x)\n",
    "        \n",
    "        return cross_entropy_error(y, t)\n",
    "    \n",
    "    # 정확도\n",
    "    def accuracy(self, x, t):\n",
    "        y = self.predict(x)\n",
    "        y = np.argmax(y, axis=1)\n",
    "        y = np.argmax(t, axis=2)\n",
    "        \n",
    "        accuracy = np.sum(y == t) / float(x.shape[0])\n",
    "        return accuracy\n",
    "    \n",
    "    # 가중치 매개변수의 기울기\n",
    "    def numerical_gradient(self, x, t):\n",
    "        loss_W = lambda W: self.loss(x, t)\n",
    "        \n",
    "        grads = {} # 기울기\n",
    "        grads['W1'] = numerical_gradient(loss_W, self.params['W1'])\n",
    "        grads['b1'] = numerical_gradient(loss_W, self.params['b1'])\n",
    "        grads['W2'] = numerical_gradient(loss_W, self.params['W2'])\n",
    "        grads['b2'] = numerical_gradient(loss_W, self.params['b2'])\n",
    "        \n",
    "        return grads\n",
    "    \n",
    "    "
   ]
  },
  {
   "cell_type": "markdown",
   "id": "20114165",
   "metadata": {},
   "source": [
    "### ▶ 미니배치 학습 구현하기\n",
    "- 훈련 데이터 중 일부를 무작위로 꺼내고(미니배치)\n",
    "- 그 미니배치에 대해 경사법으로 매개변수를 갱신"
   ]
  },
  {
   "cell_type": "code",
   "execution_count": 12,
   "id": "3d69ec68",
   "metadata": {},
   "outputs": [],
   "source": [
    "import numpy as np\n",
    "import matplotlib.pyplot as plt\n",
    "from dataset.mnist import load_mnist\n",
    "from two_layer_net import TwoLayerNet\n",
    "\n",
    "(x_train, t_train), (x_test, t_test) = load_mnist(normalize=True, one_hot_label = True)\n",
    "\n",
    "train_loss_list = []\n",
    "\n",
    "# hyper parameter\n",
    "iters_num = 10000 # 학습 반복 획수\n",
    "train_size = x_train.shape[0]\n",
    "batch_size = 100 # 미니배치의 크기\n",
    "learning_rate = 0.1\n",
    "\n",
    "network = TwoLayerNet(input_size = 784, hidden_size = 50, output_size = 10)\n",
    "\n",
    "for i in range(iters_num):\n",
    "    # 미니배치 획득\n",
    "    batch_mask = np.random.choice(train_size, batch_size)\n",
    "    x_batch = x_train[batch_mask]\n",
    "    t_batch = t_train[batch_mask]\n",
    "    \n",
    "    # 기울기 계산\n",
    "    grad = network.numerical_gradient(x_batch, t_batch)\n",
    "    # grad = network.gradient(x_batch, t_batch) # 성능 개선판\n",
    "    \n",
    "    # 매개변수 갱신\n",
    "    for key in ('W1', 'b1', 'W2', 'b2'):\n",
    "        network.params[key] -= learning_rate * grad[key]\n",
    "        \n",
    "    # 학습경과 기록\n",
    "    loss = network.loss(x_batch, t_batch)\n",
    "    train_loss_list.append(loss)"
   ]
  },
  {
   "cell_type": "markdown",
   "id": "f8af3fbb",
   "metadata": {},
   "source": [
    "### ▶ 시험 데이터로 평가하기\n",
    "1. 훈련 데이터의 손실함수 값이 작아지는지 확인 ➡ 신경망이 잘 학습중\n",
    "2. 훈련데이터 외의 데이터를 올바르게 인식하는지 확인 ➡ overfitting을 일으키지 않는지\n",
    "**1epoch 단위로 훈련 데이터와 시험데이터에 대한 정확도 기록**\n",
    "(1epoch : 학습에서 훈련데이터와 시험데이터를 모두 소진했을 때의 횟수)"
   ]
  },
  {
   "cell_type": "code",
   "execution_count": 14,
   "id": "00bfef10",
   "metadata": {},
   "outputs": [
    {
     "data": {
      "text/plain": [
       "'\\nx1 = np.arange(0, len(train_acc_list))\\ny1 = train_acc_list\\n\\nx2 = np.arange(0, len(test_acc_list))\\ny2 = test_acc_list\\nplt.plot(x1, y1, x2, y2)\\nplt.show()\\n'"
      ]
     },
     "execution_count": 14,
     "metadata": {},
     "output_type": "execute_result"
    }
   ],
   "source": [
    "import numpy as np\n",
    "from dataset.mnist import load_mnist\n",
    "from two_layer_net import TwoLayerNet\n",
    "import matplotlib.pyplot as plt\n",
    "\n",
    "(x_train, t_train), (x_test, t_test) = load_mnist(normalize=True, one_hot_label=True)\n",
    "\n",
    "train_loss_list = []\n",
    "train_acc_list = []\n",
    "test_acc_list = []\n",
    "\n",
    "# ******1epoch 당 반복횟수******\n",
    "iter_per_epoch = max(train_size / batch_size, 1)\n",
    "\n",
    "# hyper parameter\n",
    "iters_num = 10000\n",
    "batch_size = 100\n",
    "learning_rate = 0.1\n",
    "\n",
    "network = TwoLayerNet(input_size = 784, hidden_size = 50, output_size = 10)\n",
    "\n",
    "for i in range(iters_num):\n",
    "    # 미니배치 획득\n",
    "    batch_mask = np.random.choice(train_size, batch_size)\n",
    "    x_batch = x_train[batch_mask]\n",
    "    t_batch = t_train[batch_mask]\n",
    "    \n",
    "    # 기울기 계산\n",
    "    grad = network.numerical_gradient(x_batch, t_batch)\n",
    "    # grad = network.gradient(x_batch, t_batch) # 성능 개선판\n",
    "    \n",
    "    # 매개변수 갱신\n",
    "    for key in ('W1', 'b1', 'W2', 'b2'):\n",
    "        network.params[key] -= learning_rate * grad[key]\n",
    "        \n",
    "    # 학습경과 기록\n",
    "    loss = network.loss(x_batch, t_batch)\n",
    "    train_loss_list.append(loss)\n",
    "    \n",
    "    # ******1epoch 당 정확도 계산******\n",
    "    if i % iter_per_epoch == 0: # 1epoch 마다 실행\n",
    "        train_acc = network.accuracy(x_train, t_train)\n",
    "        test_acc = network.accuracy(x_test, t_test)\n",
    "        train_acc_list.append(train_acc)\n",
    "        test_acc_list.append(test_acc)\n",
    "        # print(\"train acc, test acc | \", str(train_acc),\",\",str(test_acc))\n",
    "\n",
    "# graph\n",
    "'''\n",
    "x1 = np.arange(0, len(train_acc_list))\n",
    "y1 = train_acc_list\n",
    "\n",
    "x2 = np.arange(0, len(test_acc_list))\n",
    "y2 = test_acc_list\n",
    "plt.plot(x1, y1, x2, y2)\n",
    "plt.show()\n",
    "'''"
   ]
  },
  {
   "attachments": {
    "image.png": {
     "image/png": "[encoded data removed]"
    }
   },
   "cell_type": "markdown",
   "id": "34508511",
   "metadata": {},
   "source": [
    "####   \n",
    "![image.png](attachment:image.png)\n",
    "####   "
   ]
  },
  {
   "cell_type": "markdown",
   "id": "f81a6d22",
   "metadata": {},
   "source": [
    "- 만약 overfitting이 일어난다면?\n",
    "    - 특정 순간부터 정확도가 떨어지는 현상 발생\n",
    "    - overfitting이 발생한 순간을 포착하여 학습을 중단 (early stopping)\n",
    "    - 가중치 감수, 드롭아웃 등의 방식도 있음"
   ]
  },
  {
   "cell_type": "markdown",
   "id": "75b7cb28",
   "metadata": {},
   "source": [
    "### 정리\n",
    "- dataset = 훈련 데이터 + 시험 데이터\n",
    "- 훈련 데이터에서 학습한 모델의 범용 능력을 시험 데이터로 평가\n",
    "- 신경망 학습은 손실 함수를 지표로, 손실함수의 값이 작아지는 방향으로 가중치 매개변수 갱신\n",
    "- 가중치 매개변수를 갱신할 때는 가중치 매개변수의 기울기 이용. 기울어진 방향으로 가중치 값 갱신\n",
    "- 수치 미분을 이용하여 가중치 매개변수의 기울기 도출\n",
    "- 수치 미분을 이용한 도출은 간단하지만 시간이 걸림, 반면 오차역전파법으로는 복잡하지만 고속으로 기울기를 구할 수 있음"
   ]
  }
 ],
 "metadata": {
  "kernelspec": {
   "display_name": "Python 3 (ipykernel)",
   "language": "python",
   "name": "python3"
  },
  "language_info": {
   "codemirror_mode": {
    "name": "ipython",
    "version": 3
   },
   "file_extension": ".py",
   "mimetype": "text/x-python",
   "name": "python",
   "nbconvert_exporter": "python",
   "pygments_lexer": "ipython3",
   "version": "3.9.12"
  }
 },
 "nbformat": 4,
 "nbformat_minor": 5
}
